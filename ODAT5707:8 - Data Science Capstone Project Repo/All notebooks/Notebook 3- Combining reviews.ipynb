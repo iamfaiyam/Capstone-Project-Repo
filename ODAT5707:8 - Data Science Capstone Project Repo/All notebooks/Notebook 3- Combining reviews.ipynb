{
 "cells": [
  {
   "cell_type": "markdown",
   "id": "dae9f7b3",
   "metadata": {},
   "source": [
    "## <font color = 'purple'>Notebook 3: Appending all reviews together for Google Play Store and Apple App Store separately</font>"
   ]
  },
  {
   "cell_type": "markdown",
   "id": "fb551b78",
   "metadata": {},
   "source": [
    "<font color = 'purple'>The below code has been produced to combine the following app reviews in Google Play Store:\n",
    "* Facebook \n",
    "* Instagram \n",
    "* Spotify \n",
    "* Whatsapp\n",
    "* Walmart\n",
    "* Netflix\n",
    "* MyFitnessPal\n",
    "* Microsoft Teams\n",
    "* Amazon\n",
    "* Telegram\n",
    "</font>\n",
    "\n",
    "\n",
    "<font color = 'purple'>These 10 apps should provide an adequate amount of reviews for us to conduct our sentiment analysis and feedback categorisation using Machine Learning Models</font>"
   ]
  },
  {
   "cell_type": "code",
   "execution_count": 1,
   "id": "9f6f7dae",
   "metadata": {},
   "outputs": [],
   "source": [
    "import os \n",
    "import pandas as pd"
   ]
  },
  {
   "cell_type": "code",
   "execution_count": 2,
   "id": "c83e6ad4",
   "metadata": {},
   "outputs": [],
   "source": [
    "# This is the directory where the csv files are located\n",
    "directory = '/Users/iamfaiyam/Downloads'\n",
    "\n",
    "# Empty list to store the dataframe\n",
    "dataframes = []\n",
    "\n",
    "# Loops through all the csv files in the directory\n",
    "for filename in os.listdir(directory):\n",
    "    if filename.endswith(\".csv\"):\n",
    "        file_path = os.path.join(directory, filename)\n",
    "        # Read each csv file into a dataframe\n",
    "        df = pd.read_csv(file_path, chunksize=10000)\n",
    "        for chunk in df: \n",
    "            dataframes.append(chunk)\n",
    "\n",
    "# Concatenate all dataframes in the list \n",
    "combined_df = pd.concat(dataframes, ignore_index = True) \n",
    "\n",
    "# Drop the first column (index column) \n",
    "combined_df.drop(combined_df.columns[0], axis = 1, inplace = True)\n",
    "\n",
    "# Saving the combined dataframe to a new csv file\n",
    "combined_df.to_csv('combined_reviews.csv', index = False) "
   ]
  },
  {
   "cell_type": "markdown",
   "id": "983592a0",
   "metadata": {},
   "source": [
    "<font color = 'purple'>The below code has been produced to combine the following app reviews in Apple Play Store:\n",
    "* Facebook \n",
    "* Instagram \n",
    "* Spotify \n",
    "* Whatsapp\n",
    "* Netflix\n",
    "* MyFitnessPal\n",
    "* Microsoft Teams\n",
    "* Telegram\n",
    "</font>\n",
    "\n",
    "\n",
    "<font color = 'purple'>These 8 apps should provide an adequate amount of reviews for us to conduct our sentiment analysis and feedback categorisation using Machine Learning Models</font>"
   ]
  },
  {
   "cell_type": "code",
   "execution_count": 12,
   "id": "977adbf4",
   "metadata": {},
   "outputs": [],
   "source": [
    "# Define the folder where the CSV files are stored\n",
    "folder_path = '/Users/iamfaiyam/Downloads/Apple App Store'\n",
    "\n",
    "# Initialise an empty list to store the data from each CSV file\n",
    "all_data = []\n",
    "\n",
    "# Check if the folder exists and read CSV files\n",
    "if os.path.exists(folder_path):\n",
    "    for file in os.listdir(folder_path):\n",
    "        if file.endswith('.csv'):\n",
    "            file_path = os.path.join(folder_path, file)\n",
    "            try:\n",
    "                # Read the CSV file\n",
    "                df = pd.read_csv(file_path)\n",
    "                # Append the data to the list\n",
    "                all_data.append(df)\n",
    "                print(f\"Successfully read: {file_path}\")\n",
    "            except Exception as e:\n",
    "                print(f\"Failed to read {file_path}: {e}\")\n",
    "\n",
    "    # Check if any data was added to all_data\n",
    "    if all_data:\n",
    "        # Combine all the data into a single DataFrame\n",
    "        combined_data = pd.concat(all_data, ignore_index=False)\n",
    "\n",
    "        # Save the combined data to a new CSV file\n",
    "        output_path = os.path.join(folder_path, 'combined_reviews_apple.csv')\n",
    "        combined_data.to_csv(output_path, index=False)\n",
    "        print(f\"Data successfully combined and saved to: {output_path}\")\n",
    "    else:\n",
    "        print(\"No CSV files were processed.\")\n",
    "else:\n",
    "    print(f\"Folder does not exist: {folder_path}\")"
   ]
  }
 ],
 "metadata": {
  "kernelspec": {
   "display_name": "Python 3 (ipykernel)",
   "language": "python",
   "name": "python3"
  },
  "language_info": {
   "codemirror_mode": {
    "name": "ipython",
    "version": 3
   },
   "file_extension": ".py",
   "mimetype": "text/x-python",
   "name": "python",
   "nbconvert_exporter": "python",
   "pygments_lexer": "ipython3",
   "version": "3.9.7"
  }
 },
 "nbformat": 4,
 "nbformat_minor": 5
}
