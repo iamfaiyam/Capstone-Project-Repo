{
 "cells": [
  {
   "cell_type": "markdown",
   "id": "bc75fa5b",
   "metadata": {},
   "source": [
    "## <font color = 'purple'>Notebook 2: Web-scraping Apple App Store Reviews</font>"
   ]
  },
  {
   "cell_type": "markdown",
   "id": "b51c8ff4",
   "metadata": {},
   "source": [
    "<font color = 'purple'>\n",
    "    \n",
    "The code below uses the `app_store_scraper` package to scrape reviews from the App Store and in this particular case we get reviews from Whatsapp. It initialises the app data using the app's name, country and ID, then retrieves 2000 reviews, which are stored as dictionaries in the `app.reviews` list. The code then prints out the first five reviews, displays the review's title, rating, content and date for each one. \n",
    "    \n",
    "</font>"
   ]
  },
  {
   "cell_type": "code",
   "execution_count": 1,
   "id": "8a6b9c3c",
   "metadata": {},
   "outputs": [],
   "source": [
    "#pip install app_store_scraper"
   ]
  },
  {
   "cell_type": "code",
   "execution_count": 2,
   "id": "f2a98236",
   "metadata": {},
   "outputs": [],
   "source": [
    "#pip install --upgrade app-store-scraper"
   ]
  },
  {
   "cell_type": "code",
   "execution_count": 33,
   "id": "9e039998",
   "metadata": {},
   "outputs": [
    {
     "name": "stderr",
     "output_type": "stream",
     "text": [
      "2024-09-22 21:21:17,805 [INFO] Base - Initialised: AppStore('au', 'whatsapp-messenger', 310633997)\n",
      "2024-09-22 21:21:17,808 [INFO] Base - Ready to fetch reviews from: https://apps.apple.com/au/app/whatsapp-messenger/id310633997\n",
      "2024-09-22 21:21:23,211 [INFO] Base - [id:310633997] Fetched 220 reviews (220 fetched in total)\n",
      "2024-09-22 21:21:28,633 [INFO] Base - [id:310633997] Fetched 440 reviews (440 fetched in total)\n",
      "2024-09-22 21:21:34,401 [INFO] Base - [id:310633997] Fetched 680 reviews (680 fetched in total)\n",
      "2024-09-22 21:21:54,094 [ERROR] Base - Something went wrong: HTTPSConnectionPool(host='amp-api.apps.apple.com', port=443): Max retries exceeded with url: /v1/catalog/au/apps/310633997/reviews?l=en-GB&offset=700&limit=20&platform=web&additionalPlatforms=appletv%2Cipad%2Ciphone%2Cmac (Caused by ResponseError('too many 429 error responses'))\n",
      "2024-09-22 21:21:54,104 [INFO] Base - [id:310633997] Fetched 700 reviews (700 fetched in total)\n"
     ]
    },
    {
     "name": "stdout",
     "output_type": "stream",
     "text": [
      "Title: Change the default setting of automatically downloading all images into your photo album for on iOS\n",
      "Rating: 5\n",
      "Review: This feature has been one of the most annoying aspects of WhatsApp.\n",
      "\n",
      "Everytime you download WhatsApp on your device, you are always subject to the default settings when saving your data on your device\n",
      "\n",
      "One of this features is how by default WhatsApp will download any image or video shared in any conversation which you are apart of into your camera roll photo album.\n",
      "\n",
      "This results in images and video which I do not possess appearing into your camera roll.\n",
      "\n",
      "The reason why I don’t like this is because you are not in control of what people share and it doesn’t mean you want their content saved in your camera roll.\n",
      "\n",
      "It’s particularly annoying with GIFs or Memes which are not actually funny and rather offensive.\n",
      "\n",
      "I would like Facebook INC to change this feature to do not download all images and video from conversation as the default preference.\n",
      "Date: 2021-05-06 05:15:15\n",
      "\n",
      "Title: Privacy\n",
      "Rating: 4\n",
      "Review: The privacy on WhatsApp is incredible, I know you probably don’t have time for young girls but basically my whole year level agrees to make it more like snap, not fully copy right but try and change the status so it isn’t so embarrassing when you add to it👍 Also if you do change it we have all agreed to spread the word, you know tell everyone to get it because it’s better than snap, hahahaha!!! Also you should add a camera simble next to all the chats so you can just click on that and send a specific photo to each chat, instead of changing it in settings every time😫 another good reason is because Snapchat is 17+ or something so basically no one is allowed it, if you include these simple things then it might just be the next big app, isn’t that what you want??? I know exactly what your thinking why would any idiot like me waste all of this time just for a comment? Well because it’s not just me talking about this, it’s the whole freakin school!! Even the teachers, I am only 16, I don’t expect you to just go and change it but at least try!! Why save the best till last, it’s worth a crack isn’t it?? And if it doesn’t work, just change it back no biggy, and I know I have no idea what I am taking about it’s probably a lot harder than I think it is but just have a go!! You only have one life so why not try and live it instead of trying to survive it???\n",
      "Yours Sincerely,\n",
      "The great idea!!\n",
      "Date: 2024-02-01 09:07:06\n",
      "\n",
      "Title: Add photo info!\n",
      "Rating: 4\n",
      "Review: Hi WhatsApp,\n",
      "This app is really great, I use it everyday and is exactly what I need! It is a basic app for messaging, but with so many advanced features!\n",
      " However, I think a really good improvement for this app would be to have information on photos you send. So if you click on your photo either on a chat or status, you can find out who saved or took a screenshot of it. This would be very beneficial for many users, and enhance the app even more! One more thing that would be great to be able to do is delete photos, even if everyone has viewed it. Every person I’ve talked to wants this feature, and it would be helpful for personal, non business related chats. So once everyone has viewed it, you could still go back and delete it before more people save it. I would love to see these as an addition for WhatsApp, as it is such a great app! Thanks for your time!\n",
      "Date: 2023-08-14 05:42:16\n",
      "\n",
      "Title: Wow so private!\n",
      "Rating: 1\n",
      "Review: If there was ever an equivalent of social services that took words away while they were being abused then WhatsApp would have the word ‘private’ in front of a child psychologist showing the nice lady where exactly on the toy smartphone it was that weird Uncle WhatsApp took photos of them without their knowledge and sold the offer to data to his all of sweaty golfing buddies. \n",
      "\n",
      "That’s before the child psychologist smashes the toy on the ground and forgets about the whole 'tortured simile' thing, and having a sticky beak by scrolling down there ⤹ ~<(* )  and looking at all the information WhatsApp thinks it deserves - like a couch surfing room mate asking clarifiers during a family emergency.  \n",
      "\n",
      "Here's a better idea: Don't download it! Because the fact you need to scroll down at all to check what data an app employing the word  ‘private’ (in its product heading no less) is demanding is like - shoving a mango scented marker pen up your nostril and then checking the back of the box to determine how many servings of your daily recommended fruit intake it just counted as.\n",
      "Date: 2024-08-04 15:53:37\n",
      "\n",
      "Title: Terrible, terrible support.\n",
      "Rating: 1\n",
      "Review: Im on holiday and reliant on whatsapp to communicate with agents, hotels, hosts, fellow travellers etc. this app has banned me 5 times in two weeks with no explanation as to why, ive sent less than a dozen messages to 4 users. Their customer support sends autogenerated responses that dont address my problem. Im unbanned and them banned again within a day or two, with no explanation or cause. This has been incredibly disruptive to my trip and its a real shame this app is so ubiquitous when its treating its customers so poorly.\n",
      "\n",
      "Update: I’m now in my 8th ban for “spam”, im banned immediately each time i send my first message to any number. I am just trying to reach out to hotels, travel agents etc while travelling. Im doing nothing untoward or remotely spammy. Each time ive been unbanned 24hrs later and it is explained as an “accident”, then i am immediately rebanned. No human support to help me, just the same loop of dealing with robots. Im in a foreign country and unable to talk to many businesses and services who exclusively use this terrible app putting my safety at risk.\n",
      "Date: 2024-05-26 01:13:18\n",
      "\n"
     ]
    }
   ],
   "source": [
    "from app_store_scraper import AppStore\n",
    "\n",
    "# Initialise the app by passing the name and country of the store \n",
    "app = AppStore(country = \"au\", app_name = \"whatsapp-messenger\", app_id = 310633997)\n",
    "\n",
    "# Get reviews, specify the number of reviews (2000) and save to a variable\n",
    "app.review(how_many = 2000) \n",
    "\n",
    "# The reviews are stored in the app.reviews list as dictionaries\n",
    "reviews = app.reviews\n",
    "\n",
    "# Display some reviews\n",
    "for review in reviews[:5]:\n",
    "    print(f\"Title: {review['title']}\")\n",
    "    print(f\"Rating: {review['rating']}\")\n",
    "    print(f\"Review: {review['review']}\")\n",
    "    print(f\"Date: {review['date']}\\n\")"
   ]
  },
  {
   "cell_type": "code",
   "execution_count": 34,
   "id": "6e01cb29",
   "metadata": {},
   "outputs": [
    {
     "name": "stdout",
     "output_type": "stream",
     "text": [
      "                 date                                             review  \\\n",
      "0 2021-05-06 05:15:15  This feature has been one of the most annoying...   \n",
      "1 2024-02-01 09:07:06  The privacy on WhatsApp is incredible, I know ...   \n",
      "2 2023-08-14 05:42:16  Hi WhatsApp,\\nThis app is really great, I use ...   \n",
      "3 2024-08-04 15:53:37  If there was ever an equivalent of social serv...   \n",
      "4 2024-05-26 01:13:18  Im on holiday and reliant on whatsapp to commu...   \n",
      "\n",
      "   rating  isEdited           userName  \\\n",
      "0       5     False     Keanu De Sousa   \n",
      "1       4     False  The great idea!!!   \n",
      "2       4     False      Pokey Ball ⚾️   \n",
      "3       1     False           Zenicero   \n",
      "4       1     False    JohnDoe63737286   \n",
      "\n",
      "                                               title developerResponse  \n",
      "0  Change the default setting of automatically do...               NaN  \n",
      "1                                            Privacy               NaN  \n",
      "2                                    Add photo info!               NaN  \n",
      "3                                    Wow so private!               NaN  \n",
      "4                        Terrible, terrible support.               NaN  \n"
     ]
    }
   ],
   "source": [
    "from app_store_scraper import AppStore\n",
    "import pandas as pd\n",
    "\n",
    "df = pd.DataFrame(reviews)\n",
    "\n",
    "print(df.head())"
   ]
  },
  {
   "cell_type": "code",
   "execution_count": 35,
   "id": "7025b98f",
   "metadata": {},
   "outputs": [
    {
     "data": {
      "text/html": [
       "<div>\n",
       "<style scoped>\n",
       "    .dataframe tbody tr th:only-of-type {\n",
       "        vertical-align: middle;\n",
       "    }\n",
       "\n",
       "    .dataframe tbody tr th {\n",
       "        vertical-align: top;\n",
       "    }\n",
       "\n",
       "    .dataframe thead th {\n",
       "        text-align: right;\n",
       "    }\n",
       "</style>\n",
       "<table border=\"1\" class=\"dataframe\">\n",
       "  <thead>\n",
       "    <tr style=\"text-align: right;\">\n",
       "      <th></th>\n",
       "      <th>date</th>\n",
       "      <th>review</th>\n",
       "      <th>rating</th>\n",
       "      <th>isEdited</th>\n",
       "      <th>userName</th>\n",
       "      <th>title</th>\n",
       "      <th>developerResponse</th>\n",
       "    </tr>\n",
       "  </thead>\n",
       "  <tbody>\n",
       "    <tr>\n",
       "      <th>0</th>\n",
       "      <td>2021-05-06 05:15:15</td>\n",
       "      <td>This feature has been one of the most annoying...</td>\n",
       "      <td>5</td>\n",
       "      <td>False</td>\n",
       "      <td>Keanu De Sousa</td>\n",
       "      <td>Change the default setting of automatically do...</td>\n",
       "      <td>NaN</td>\n",
       "    </tr>\n",
       "    <tr>\n",
       "      <th>1</th>\n",
       "      <td>2024-02-01 09:07:06</td>\n",
       "      <td>The privacy on WhatsApp is incredible, I know ...</td>\n",
       "      <td>4</td>\n",
       "      <td>False</td>\n",
       "      <td>The great idea!!!</td>\n",
       "      <td>Privacy</td>\n",
       "      <td>NaN</td>\n",
       "    </tr>\n",
       "    <tr>\n",
       "      <th>2</th>\n",
       "      <td>2023-08-14 05:42:16</td>\n",
       "      <td>Hi WhatsApp,\\nThis app is really great, I use ...</td>\n",
       "      <td>4</td>\n",
       "      <td>False</td>\n",
       "      <td>Pokey Ball ⚾️</td>\n",
       "      <td>Add photo info!</td>\n",
       "      <td>NaN</td>\n",
       "    </tr>\n",
       "    <tr>\n",
       "      <th>3</th>\n",
       "      <td>2024-08-04 15:53:37</td>\n",
       "      <td>If there was ever an equivalent of social serv...</td>\n",
       "      <td>1</td>\n",
       "      <td>False</td>\n",
       "      <td>Zenicero</td>\n",
       "      <td>Wow so private!</td>\n",
       "      <td>NaN</td>\n",
       "    </tr>\n",
       "    <tr>\n",
       "      <th>4</th>\n",
       "      <td>2024-05-26 01:13:18</td>\n",
       "      <td>Im on holiday and reliant on whatsapp to commu...</td>\n",
       "      <td>1</td>\n",
       "      <td>False</td>\n",
       "      <td>JohnDoe63737286</td>\n",
       "      <td>Terrible, terrible support.</td>\n",
       "      <td>NaN</td>\n",
       "    </tr>\n",
       "  </tbody>\n",
       "</table>\n",
       "</div>"
      ],
      "text/plain": [
       "                 date                                             review  \\\n",
       "0 2021-05-06 05:15:15  This feature has been one of the most annoying...   \n",
       "1 2024-02-01 09:07:06  The privacy on WhatsApp is incredible, I know ...   \n",
       "2 2023-08-14 05:42:16  Hi WhatsApp,\\nThis app is really great, I use ...   \n",
       "3 2024-08-04 15:53:37  If there was ever an equivalent of social serv...   \n",
       "4 2024-05-26 01:13:18  Im on holiday and reliant on whatsapp to commu...   \n",
       "\n",
       "   rating  isEdited           userName  \\\n",
       "0       5     False     Keanu De Sousa   \n",
       "1       4     False  The great idea!!!   \n",
       "2       4     False      Pokey Ball ⚾️   \n",
       "3       1     False           Zenicero   \n",
       "4       1     False    JohnDoe63737286   \n",
       "\n",
       "                                               title developerResponse  \n",
       "0  Change the default setting of automatically do...               NaN  \n",
       "1                                            Privacy               NaN  \n",
       "2                                    Add photo info!               NaN  \n",
       "3                                    Wow so private!               NaN  \n",
       "4                        Terrible, terrible support.               NaN  "
      ]
     },
     "execution_count": 35,
     "metadata": {},
     "output_type": "execute_result"
    }
   ],
   "source": [
    "df.head()"
   ]
  },
  {
   "cell_type": "code",
   "execution_count": 36,
   "id": "17974d4d",
   "metadata": {},
   "outputs": [],
   "source": [
    "# Saving dataframe as csv file\n",
    "df.to_csv('whatsapp.csv', index = False)"
   ]
  }
 ],
 "metadata": {
  "kernelspec": {
   "display_name": "Python 3 (ipykernel)",
   "language": "python",
   "name": "python3"
  },
  "language_info": {
   "codemirror_mode": {
    "name": "ipython",
    "version": 3
   },
   "file_extension": ".py",
   "mimetype": "text/x-python",
   "name": "python",
   "nbconvert_exporter": "python",
   "pygments_lexer": "ipython3",
   "version": "3.9.7"
  }
 },
 "nbformat": 4,
 "nbformat_minor": 5
}
